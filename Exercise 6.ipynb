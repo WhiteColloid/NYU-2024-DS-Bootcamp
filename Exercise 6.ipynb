{
 "cells": [
  {
   "cell_type": "markdown",
   "source": [
    "1. How do you control for biases?\n",
    "- We can do randomization. The is, randomly assign participants to groups, which ensures confounding variables are distributed among the groups. Also, randomization avoid sampling biases in which participants share some opinions on the research problem, or non-response biases.\n",
    "- We can also do control groups to compare treatment groups against the baselines.\n",
    "- Replication is also important in experiment, because it ensures that result are not affected by random changes or biases not observed at first. "
   ],
   "metadata": {
    "collapsed": false
   },
   "id": "a6d51ac508df5511"
  },
  {
   "cell_type": "markdown",
   "source": [
    "2. What are confounding variables?\n",
    "- It means unmeasured variable that influences both the independent and dependent variables. For example, I want to know if smoking lead to heart disease. However, some smokers also drink alcohol, which can also lead to heart disease. As a result, I don't know if higher risk of heart disease is caused by smoking or drinking alcohol. "
   ],
   "metadata": {
    "collapsed": false
   },
   "id": "8d216b3ea59ba9e"
  },
  {
   "cell_type": "markdown",
   "source": [
    "3. What is A/B testing?\n",
    "- It is a controlled experiment with 2 variables, A and B. First we set our goal (like increase the click rate in a web), and set A to be current version, and B to be modified version. Then, randomly split participants into 2 groups and let them interact with A and B respectively. After that, do two-sample hypothesis test with the experiment result. H0 is \"A and B have same efficacy\". We do a 1-tailed or 2-tailed test on this and see if p-value is in significant interval. If yes, we say that A and B have different efficacy."
   ],
   "metadata": {
    "collapsed": false
   },
   "id": "ed86f3755cbe04fa"
  },
  {
   "cell_type": "markdown",
   "source": [
    "4. When will you use Welch t-test?\n",
    "- We use it when two groups we want to compare have different variances or sample sizes. We use t to compare means of 2 groups."
   ],
   "metadata": {
    "collapsed": false
   },
   "id": "87c93446f83b92ce"
  },
  {
   "cell_type": "markdown",
   "source": [
    "5. A company claims that the average time its customer service representatives spend on the phone per call is 6 minutes. You believe that the average time is actually higher. You collect a random sample of 50 calls and find that the average time spent on the phone per call in your sample is 6.5 minutes, with a standard deviation of 1.2 minutes. Test whether there is sufficient evidence to support your claim at a significance level of 0.05.\n"
   ],
   "metadata": {
    "collapsed": false
   },
   "id": "6172723f47052103"
  },
  {
   "cell_type": "code",
   "execution_count": 1,
   "outputs": [
    {
     "name": "stdout",
     "output_type": "stream",
     "text": [
      "T-statistic: 2.946278254943948\n",
      "P-value: 0.0024555744280253798\n",
      "There is sufficient evidence to reject the null hypothesis.\n",
      "This supports the claim that the average time is higher than 6 minutes.\n"
     ]
    }
   ],
   "source": [
    "import numpy as np\n",
    "from scipy import stats\n",
    "\n",
    "sample_mean = 6.5  \n",
    "sample_std = 1.2   \n",
    "sample_size = 50   \n",
    "pop_mean = 6  \n",
    "\n",
    "standard_error = sample_std / np.sqrt(sample_size)\n",
    "\n",
    "t = (sample_mean - pop_mean) / standard_error\n",
    "\n",
    "# Calculate the degrees of freedom\n",
    "df = sample_size - 1\n",
    "\n",
    "p_val = stats.t.sf(t, df)  \n",
    "\n",
    "# Print results\n",
    "print(\"T-statistic:\", t)\n",
    "print(\"P-value:\", p_val)\n",
    "\n",
    "# Check if significant\n",
    "alpha = 0.05\n",
    "if p_val < alpha:\n",
    "    print(\"There is sufficient evidence to reject the null hypothesis.\")\n",
    "    print(\"We can say that the average time is higher than 6 minutes.\")\n",
    "else:\n",
    "    print(\"There is not sufficient evidence to reject the null hypothesis.\")\n",
    "    print(\"We cannot say that the average time is higher than 6 minutes.\")\n"
   ],
   "metadata": {
    "collapsed": false,
    "ExecuteTime": {
     "end_time": "2024-04-23T01:03:20.188472200Z",
     "start_time": "2024-04-23T01:03:20.182304200Z"
    }
   },
   "id": "b89a18e14a638469"
  },
  {
   "cell_type": "markdown",
   "source": [
    "6. A researcher wants to determine whether there is a difference in the mean scores of two groups of students on a math test. Group A consists of 25 students who received traditional teaching methods, while Group B consists of 30 students who received a new teaching method. The average score for Group A is 75, with a standard deviation of 8, and the average score for Group B is 78, with a standard deviation of 7. Test whether there is a significant difference in the mean scores of the two groups at a significance level of 0.05.\n"
   ],
   "metadata": {
    "collapsed": false
   },
   "id": "9636d9229f51bcf7"
  },
  {
   "cell_type": "code",
   "execution_count": 3,
   "outputs": [
    {
     "name": "stdout",
     "output_type": "stream",
     "text": [
      "T-statistic: -1.4650132801342768\n",
      "Degrees of freedom is  48.16767771755786\n",
      "P-value: 0.14941450596390296\n",
      "There is no significant difference in the mean scores of A and B.\n"
     ]
    }
   ],
   "source": [
    "n_A = 25  \n",
    "mean_A = 75 \n",
    "std_A = 8  \n",
    "\n",
    "n_B = 30  \n",
    "mean_B = 78 \n",
    "std_B = 7\n",
    "\n",
    "# Welch's t-test\n",
    "se_A = std_A / np.sqrt(n_A)\n",
    "se_B = std_B / np.sqrt(n_B)\n",
    "\n",
    "se_diff = np.sqrt(se_A**2 + se_B**2)  \n",
    "\n",
    "t = (mean_A - mean_B) / se_diff\n",
    "\n",
    "df = (se_A**2 + se_B**2)**2 / ((se_A**4 / (n_A - 1)) + (se_B**4 / (n_B - 1)))\n",
    "\n",
    "# Calculate the p-value\n",
    "p_val = stats.t.sf(np.abs(t), df) * 2  # two-tailed test\n",
    "\n",
    "# Print results\n",
    "print(\"T-statistic:\", t)\n",
    "print(\"Degrees of freedom is \", df)\n",
    "print(\"P-value:\", p_val)\n",
    "\n",
    "# Determine significance\n",
    "alpha = 0.05  # significance level\n",
    "if p_val < alpha:\n",
    "    print(\"There is a significant difference in the mean scores of A and B.\")\n",
    "else:\n",
    "    print(\"There is no significant difference in the mean scores of A and B.\")\n"
   ],
   "metadata": {
    "collapsed": false,
    "ExecuteTime": {
     "end_time": "2024-04-23T01:23:28.774564800Z",
     "start_time": "2024-04-23T01:23:28.766134800Z"
    }
   },
   "id": "c80359dc7772675c"
  },
  {
   "cell_type": "code",
   "execution_count": null,
   "outputs": [],
   "source": [],
   "metadata": {
    "collapsed": false
   },
   "id": "d5e4a4e585c53179"
  }
 ],
 "metadata": {
  "kernelspec": {
   "display_name": "Python 3",
   "language": "python",
   "name": "python3"
  },
  "language_info": {
   "codemirror_mode": {
    "name": "ipython",
    "version": 2
   },
   "file_extension": ".py",
   "mimetype": "text/x-python",
   "name": "python",
   "nbconvert_exporter": "python",
   "pygments_lexer": "ipython2",
   "version": "2.7.6"
  }
 },
 "nbformat": 4,
 "nbformat_minor": 5
}
