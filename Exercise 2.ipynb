{
 "cells": [
  {
   "cell_type": "code",
   "execution_count": 1,
   "outputs": [],
   "source": [
    "import pandas as pd\n",
    "import numpy as np"
   ],
   "metadata": {
    "collapsed": false,
    "ExecuteTime": {
     "end_time": "2024-03-10T01:20:33.527102Z",
     "start_time": "2024-03-10T01:20:33.242615200Z"
    }
   },
   "id": "fdbbe66c72b5a6be"
  },
  {
   "cell_type": "markdown",
   "source": [
    "1) From df filter the 'Manufacturer', 'Model' and 'Type' for every 20th row starting from 1st (row 0).\n",
    "df = pd.read_csv('https://raw.githubusercontent.com/selva86/datasets/master/Cars93_miss.csv')"
   ],
   "metadata": {
    "collapsed": false
   },
   "id": "45a726203b216e50"
  },
  {
   "cell_type": "code",
   "execution_count": 2,
   "outputs": [],
   "source": [
    "df = pd.read_csv('https://raw.githubusercontent.com/selva86/datasets/master/Cars93_miss.csv')"
   ],
   "metadata": {
    "collapsed": false,
    "ExecuteTime": {
     "end_time": "2024-03-10T01:21:00.510376300Z",
     "start_time": "2024-03-10T01:21:00.352313Z"
    }
   },
   "id": "4aeb35447e1a4efd"
  },
  {
   "cell_type": "code",
   "execution_count": 3,
   "outputs": [
    {
     "data": {
      "text/plain": "   Manufacturer    Model     Type  Min.Price  Price  Max.Price  MPG.city  \\\n0         Acura  Integra    Small       12.9   15.9       18.8      25.0   \n1           NaN   Legend  Midsize       29.2   33.9       38.7      18.0   \n2          Audi       90  Compact       25.9   29.1       32.3      20.0   \n3          Audi      100  Midsize        NaN   37.7       44.6      19.0   \n4           BMW     535i  Midsize        NaN   30.0        NaN      22.0   \n..          ...      ...      ...        ...    ...        ...       ...   \n88   Volkswagen  Eurovan      Van       16.6   19.7       22.7      17.0   \n89   Volkswagen   Passat  Compact       17.6   20.0       22.4      21.0   \n90   Volkswagen  Corrado   Sporty       22.9   23.3       23.7      18.0   \n91        Volvo      240  Compact       21.8   22.7       23.5      21.0   \n92          NaN      850  Midsize       24.8   26.7       28.5      20.0   \n\n    MPG.highway             AirBags DriveTrain  ... Passengers  Length  \\\n0          31.0                None      Front  ...        5.0   177.0   \n1          25.0  Driver & Passenger      Front  ...        5.0   195.0   \n2          26.0         Driver only      Front  ...        5.0   180.0   \n3          26.0  Driver & Passenger        NaN  ...        6.0   193.0   \n4          30.0                 NaN       Rear  ...        4.0   186.0   \n..          ...                 ...        ...  ...        ...     ...   \n88         21.0                None      Front  ...        7.0   187.0   \n89         30.0                None      Front  ...        5.0   180.0   \n90         25.0                None      Front  ...        4.0   159.0   \n91         28.0         Driver only       Rear  ...        5.0   190.0   \n92         28.0  Driver & Passenger      Front  ...        5.0   184.0   \n\n    Wheelbase  Width  Turn.circle Rear.seat.room  Luggage.room  Weight  \\\n0       102.0   68.0         37.0           26.5           NaN  2705.0   \n1       115.0   71.0         38.0           30.0          15.0  3560.0   \n2       102.0   67.0         37.0           28.0          14.0  3375.0   \n3       106.0    NaN         37.0           31.0          17.0  3405.0   \n4       109.0   69.0         39.0           27.0          13.0  3640.0   \n..        ...    ...          ...            ...           ...     ...   \n88      115.0   72.0         38.0           34.0           NaN  3960.0   \n89      103.0   67.0         35.0           31.5          14.0  2985.0   \n90       97.0   66.0         36.0           26.0          15.0  2810.0   \n91      104.0   67.0         37.0           29.5          14.0  2985.0   \n92      105.0   69.0         38.0           30.0          15.0  3245.0   \n\n     Origin                Make  \n0   non-USA       Acura Integra  \n1   non-USA        Acura Legend  \n2   non-USA             Audi 90  \n3   non-USA            Audi 100  \n4   non-USA            BMW 535i  \n..      ...                 ...  \n88      NaN  Volkswagen Eurovan  \n89  non-USA   Volkswagen Passat  \n90  non-USA  Volkswagen Corrado  \n91  non-USA           Volvo 240  \n92  non-USA           Volvo 850  \n\n[93 rows x 27 columns]",
      "text/html": "<div>\n<style scoped>\n    .dataframe tbody tr th:only-of-type {\n        vertical-align: middle;\n    }\n\n    .dataframe tbody tr th {\n        vertical-align: top;\n    }\n\n    .dataframe thead th {\n        text-align: right;\n    }\n</style>\n<table border=\"1\" class=\"dataframe\">\n  <thead>\n    <tr style=\"text-align: right;\">\n      <th></th>\n      <th>Manufacturer</th>\n      <th>Model</th>\n      <th>Type</th>\n      <th>Min.Price</th>\n      <th>Price</th>\n      <th>Max.Price</th>\n      <th>MPG.city</th>\n      <th>MPG.highway</th>\n      <th>AirBags</th>\n      <th>DriveTrain</th>\n      <th>...</th>\n      <th>Passengers</th>\n      <th>Length</th>\n      <th>Wheelbase</th>\n      <th>Width</th>\n      <th>Turn.circle</th>\n      <th>Rear.seat.room</th>\n      <th>Luggage.room</th>\n      <th>Weight</th>\n      <th>Origin</th>\n      <th>Make</th>\n    </tr>\n  </thead>\n  <tbody>\n    <tr>\n      <th>0</th>\n      <td>Acura</td>\n      <td>Integra</td>\n      <td>Small</td>\n      <td>12.9</td>\n      <td>15.9</td>\n      <td>18.8</td>\n      <td>25.0</td>\n      <td>31.0</td>\n      <td>None</td>\n      <td>Front</td>\n      <td>...</td>\n      <td>5.0</td>\n      <td>177.0</td>\n      <td>102.0</td>\n      <td>68.0</td>\n      <td>37.0</td>\n      <td>26.5</td>\n      <td>NaN</td>\n      <td>2705.0</td>\n      <td>non-USA</td>\n      <td>Acura Integra</td>\n    </tr>\n    <tr>\n      <th>1</th>\n      <td>NaN</td>\n      <td>Legend</td>\n      <td>Midsize</td>\n      <td>29.2</td>\n      <td>33.9</td>\n      <td>38.7</td>\n      <td>18.0</td>\n      <td>25.0</td>\n      <td>Driver &amp; Passenger</td>\n      <td>Front</td>\n      <td>...</td>\n      <td>5.0</td>\n      <td>195.0</td>\n      <td>115.0</td>\n      <td>71.0</td>\n      <td>38.0</td>\n      <td>30.0</td>\n      <td>15.0</td>\n      <td>3560.0</td>\n      <td>non-USA</td>\n      <td>Acura Legend</td>\n    </tr>\n    <tr>\n      <th>2</th>\n      <td>Audi</td>\n      <td>90</td>\n      <td>Compact</td>\n      <td>25.9</td>\n      <td>29.1</td>\n      <td>32.3</td>\n      <td>20.0</td>\n      <td>26.0</td>\n      <td>Driver only</td>\n      <td>Front</td>\n      <td>...</td>\n      <td>5.0</td>\n      <td>180.0</td>\n      <td>102.0</td>\n      <td>67.0</td>\n      <td>37.0</td>\n      <td>28.0</td>\n      <td>14.0</td>\n      <td>3375.0</td>\n      <td>non-USA</td>\n      <td>Audi 90</td>\n    </tr>\n    <tr>\n      <th>3</th>\n      <td>Audi</td>\n      <td>100</td>\n      <td>Midsize</td>\n      <td>NaN</td>\n      <td>37.7</td>\n      <td>44.6</td>\n      <td>19.0</td>\n      <td>26.0</td>\n      <td>Driver &amp; Passenger</td>\n      <td>NaN</td>\n      <td>...</td>\n      <td>6.0</td>\n      <td>193.0</td>\n      <td>106.0</td>\n      <td>NaN</td>\n      <td>37.0</td>\n      <td>31.0</td>\n      <td>17.0</td>\n      <td>3405.0</td>\n      <td>non-USA</td>\n      <td>Audi 100</td>\n    </tr>\n    <tr>\n      <th>4</th>\n      <td>BMW</td>\n      <td>535i</td>\n      <td>Midsize</td>\n      <td>NaN</td>\n      <td>30.0</td>\n      <td>NaN</td>\n      <td>22.0</td>\n      <td>30.0</td>\n      <td>NaN</td>\n      <td>Rear</td>\n      <td>...</td>\n      <td>4.0</td>\n      <td>186.0</td>\n      <td>109.0</td>\n      <td>69.0</td>\n      <td>39.0</td>\n      <td>27.0</td>\n      <td>13.0</td>\n      <td>3640.0</td>\n      <td>non-USA</td>\n      <td>BMW 535i</td>\n    </tr>\n    <tr>\n      <th>...</th>\n      <td>...</td>\n      <td>...</td>\n      <td>...</td>\n      <td>...</td>\n      <td>...</td>\n      <td>...</td>\n      <td>...</td>\n      <td>...</td>\n      <td>...</td>\n      <td>...</td>\n      <td>...</td>\n      <td>...</td>\n      <td>...</td>\n      <td>...</td>\n      <td>...</td>\n      <td>...</td>\n      <td>...</td>\n      <td>...</td>\n      <td>...</td>\n      <td>...</td>\n      <td>...</td>\n    </tr>\n    <tr>\n      <th>88</th>\n      <td>Volkswagen</td>\n      <td>Eurovan</td>\n      <td>Van</td>\n      <td>16.6</td>\n      <td>19.7</td>\n      <td>22.7</td>\n      <td>17.0</td>\n      <td>21.0</td>\n      <td>None</td>\n      <td>Front</td>\n      <td>...</td>\n      <td>7.0</td>\n      <td>187.0</td>\n      <td>115.0</td>\n      <td>72.0</td>\n      <td>38.0</td>\n      <td>34.0</td>\n      <td>NaN</td>\n      <td>3960.0</td>\n      <td>NaN</td>\n      <td>Volkswagen Eurovan</td>\n    </tr>\n    <tr>\n      <th>89</th>\n      <td>Volkswagen</td>\n      <td>Passat</td>\n      <td>Compact</td>\n      <td>17.6</td>\n      <td>20.0</td>\n      <td>22.4</td>\n      <td>21.0</td>\n      <td>30.0</td>\n      <td>None</td>\n      <td>Front</td>\n      <td>...</td>\n      <td>5.0</td>\n      <td>180.0</td>\n      <td>103.0</td>\n      <td>67.0</td>\n      <td>35.0</td>\n      <td>31.5</td>\n      <td>14.0</td>\n      <td>2985.0</td>\n      <td>non-USA</td>\n      <td>Volkswagen Passat</td>\n    </tr>\n    <tr>\n      <th>90</th>\n      <td>Volkswagen</td>\n      <td>Corrado</td>\n      <td>Sporty</td>\n      <td>22.9</td>\n      <td>23.3</td>\n      <td>23.7</td>\n      <td>18.0</td>\n      <td>25.0</td>\n      <td>None</td>\n      <td>Front</td>\n      <td>...</td>\n      <td>4.0</td>\n      <td>159.0</td>\n      <td>97.0</td>\n      <td>66.0</td>\n      <td>36.0</td>\n      <td>26.0</td>\n      <td>15.0</td>\n      <td>2810.0</td>\n      <td>non-USA</td>\n      <td>Volkswagen Corrado</td>\n    </tr>\n    <tr>\n      <th>91</th>\n      <td>Volvo</td>\n      <td>240</td>\n      <td>Compact</td>\n      <td>21.8</td>\n      <td>22.7</td>\n      <td>23.5</td>\n      <td>21.0</td>\n      <td>28.0</td>\n      <td>Driver only</td>\n      <td>Rear</td>\n      <td>...</td>\n      <td>5.0</td>\n      <td>190.0</td>\n      <td>104.0</td>\n      <td>67.0</td>\n      <td>37.0</td>\n      <td>29.5</td>\n      <td>14.0</td>\n      <td>2985.0</td>\n      <td>non-USA</td>\n      <td>Volvo 240</td>\n    </tr>\n    <tr>\n      <th>92</th>\n      <td>NaN</td>\n      <td>850</td>\n      <td>Midsize</td>\n      <td>24.8</td>\n      <td>26.7</td>\n      <td>28.5</td>\n      <td>20.0</td>\n      <td>28.0</td>\n      <td>Driver &amp; Passenger</td>\n      <td>Front</td>\n      <td>...</td>\n      <td>5.0</td>\n      <td>184.0</td>\n      <td>105.0</td>\n      <td>69.0</td>\n      <td>38.0</td>\n      <td>30.0</td>\n      <td>15.0</td>\n      <td>3245.0</td>\n      <td>non-USA</td>\n      <td>Volvo 850</td>\n    </tr>\n  </tbody>\n</table>\n<p>93 rows × 27 columns</p>\n</div>"
     },
     "execution_count": 3,
     "metadata": {},
     "output_type": "execute_result"
    }
   ],
   "source": [
    "df"
   ],
   "metadata": {
    "collapsed": false,
    "ExecuteTime": {
     "end_time": "2024-03-10T01:21:04.620039200Z",
     "start_time": "2024-03-10T01:21:04.598698600Z"
    }
   },
   "id": "fa6928462558e155"
  },
  {
   "cell_type": "code",
   "execution_count": 4,
   "outputs": [
    {
     "data": {
      "text/plain": "   Manufacturer    Model     Type\n0         Acura  Integra    Small\n20     Chrysler  LeBaron  Compact\n40        Honda  Prelude   Sporty\n60      Mercury   Cougar  Midsize\n80       Subaru   Loyale    Small",
      "text/html": "<div>\n<style scoped>\n    .dataframe tbody tr th:only-of-type {\n        vertical-align: middle;\n    }\n\n    .dataframe tbody tr th {\n        vertical-align: top;\n    }\n\n    .dataframe thead th {\n        text-align: right;\n    }\n</style>\n<table border=\"1\" class=\"dataframe\">\n  <thead>\n    <tr style=\"text-align: right;\">\n      <th></th>\n      <th>Manufacturer</th>\n      <th>Model</th>\n      <th>Type</th>\n    </tr>\n  </thead>\n  <tbody>\n    <tr>\n      <th>0</th>\n      <td>Acura</td>\n      <td>Integra</td>\n      <td>Small</td>\n    </tr>\n    <tr>\n      <th>20</th>\n      <td>Chrysler</td>\n      <td>LeBaron</td>\n      <td>Compact</td>\n    </tr>\n    <tr>\n      <th>40</th>\n      <td>Honda</td>\n      <td>Prelude</td>\n      <td>Sporty</td>\n    </tr>\n    <tr>\n      <th>60</th>\n      <td>Mercury</td>\n      <td>Cougar</td>\n      <td>Midsize</td>\n    </tr>\n    <tr>\n      <th>80</th>\n      <td>Subaru</td>\n      <td>Loyale</td>\n      <td>Small</td>\n    </tr>\n  </tbody>\n</table>\n</div>"
     },
     "execution_count": 4,
     "metadata": {},
     "output_type": "execute_result"
    }
   ],
   "source": [
    "df1 = df[['Manufacturer','Model','Type']].iloc[::20, :]\n",
    "df1"
   ],
   "metadata": {
    "collapsed": false,
    "ExecuteTime": {
     "end_time": "2024-03-10T01:25:47.479686600Z",
     "start_time": "2024-03-10T01:25:47.457791300Z"
    }
   },
   "id": "4f7d344661b8687c"
  },
  {
   "cell_type": "code",
   "execution_count": null,
   "outputs": [],
   "source": [],
   "metadata": {
    "collapsed": false
   },
   "id": "d6b9f202fd9d2bb8"
  },
  {
   "cell_type": "code",
   "execution_count": null,
   "outputs": [],
   "source": [],
   "metadata": {
    "collapsed": false
   },
   "id": "e135a8c7672dc5f4"
  },
  {
   "cell_type": "markdown",
   "source": [
    "2) Replace missing values in Min.Price and Max.Price columns with their respective mean (check documentation).\n",
    "df = pd.read_csv('https://raw.githubusercontent.com/selva86/datasets/master/Cars93_miss.csv')"
   ],
   "metadata": {
    "collapsed": false
   },
   "id": "a5432974db95254b"
  },
  {
   "cell_type": "code",
   "execution_count": 5,
   "outputs": [
    {
     "data": {
      "text/plain": "   Manufacturer    Model     Type  Min.Price  Price  Max.Price  MPG.city  \\\n0         Acura  Integra    Small       12.9   15.9       18.8      25.0   \n1           NaN   Legend  Midsize       29.2   33.9       38.7      18.0   \n2          Audi       90  Compact       25.9   29.1       32.3      20.0   \n3          Audi      100  Midsize        NaN   37.7       44.6      19.0   \n4           BMW     535i  Midsize        NaN   30.0        NaN      22.0   \n..          ...      ...      ...        ...    ...        ...       ...   \n88   Volkswagen  Eurovan      Van       16.6   19.7       22.7      17.0   \n89   Volkswagen   Passat  Compact       17.6   20.0       22.4      21.0   \n90   Volkswagen  Corrado   Sporty       22.9   23.3       23.7      18.0   \n91        Volvo      240  Compact       21.8   22.7       23.5      21.0   \n92          NaN      850  Midsize       24.8   26.7       28.5      20.0   \n\n    MPG.highway             AirBags DriveTrain  ... Passengers  Length  \\\n0          31.0                None      Front  ...        5.0   177.0   \n1          25.0  Driver & Passenger      Front  ...        5.0   195.0   \n2          26.0         Driver only      Front  ...        5.0   180.0   \n3          26.0  Driver & Passenger        NaN  ...        6.0   193.0   \n4          30.0                 NaN       Rear  ...        4.0   186.0   \n..          ...                 ...        ...  ...        ...     ...   \n88         21.0                None      Front  ...        7.0   187.0   \n89         30.0                None      Front  ...        5.0   180.0   \n90         25.0                None      Front  ...        4.0   159.0   \n91         28.0         Driver only       Rear  ...        5.0   190.0   \n92         28.0  Driver & Passenger      Front  ...        5.0   184.0   \n\n    Wheelbase  Width  Turn.circle Rear.seat.room  Luggage.room  Weight  \\\n0       102.0   68.0         37.0           26.5           NaN  2705.0   \n1       115.0   71.0         38.0           30.0          15.0  3560.0   \n2       102.0   67.0         37.0           28.0          14.0  3375.0   \n3       106.0    NaN         37.0           31.0          17.0  3405.0   \n4       109.0   69.0         39.0           27.0          13.0  3640.0   \n..        ...    ...          ...            ...           ...     ...   \n88      115.0   72.0         38.0           34.0           NaN  3960.0   \n89      103.0   67.0         35.0           31.5          14.0  2985.0   \n90       97.0   66.0         36.0           26.0          15.0  2810.0   \n91      104.0   67.0         37.0           29.5          14.0  2985.0   \n92      105.0   69.0         38.0           30.0          15.0  3245.0   \n\n     Origin                Make  \n0   non-USA       Acura Integra  \n1   non-USA        Acura Legend  \n2   non-USA             Audi 90  \n3   non-USA            Audi 100  \n4   non-USA            BMW 535i  \n..      ...                 ...  \n88      NaN  Volkswagen Eurovan  \n89  non-USA   Volkswagen Passat  \n90  non-USA  Volkswagen Corrado  \n91  non-USA           Volvo 240  \n92  non-USA           Volvo 850  \n\n[93 rows x 27 columns]",
      "text/html": "<div>\n<style scoped>\n    .dataframe tbody tr th:only-of-type {\n        vertical-align: middle;\n    }\n\n    .dataframe tbody tr th {\n        vertical-align: top;\n    }\n\n    .dataframe thead th {\n        text-align: right;\n    }\n</style>\n<table border=\"1\" class=\"dataframe\">\n  <thead>\n    <tr style=\"text-align: right;\">\n      <th></th>\n      <th>Manufacturer</th>\n      <th>Model</th>\n      <th>Type</th>\n      <th>Min.Price</th>\n      <th>Price</th>\n      <th>Max.Price</th>\n      <th>MPG.city</th>\n      <th>MPG.highway</th>\n      <th>AirBags</th>\n      <th>DriveTrain</th>\n      <th>...</th>\n      <th>Passengers</th>\n      <th>Length</th>\n      <th>Wheelbase</th>\n      <th>Width</th>\n      <th>Turn.circle</th>\n      <th>Rear.seat.room</th>\n      <th>Luggage.room</th>\n      <th>Weight</th>\n      <th>Origin</th>\n      <th>Make</th>\n    </tr>\n  </thead>\n  <tbody>\n    <tr>\n      <th>0</th>\n      <td>Acura</td>\n      <td>Integra</td>\n      <td>Small</td>\n      <td>12.9</td>\n      <td>15.9</td>\n      <td>18.8</td>\n      <td>25.0</td>\n      <td>31.0</td>\n      <td>None</td>\n      <td>Front</td>\n      <td>...</td>\n      <td>5.0</td>\n      <td>177.0</td>\n      <td>102.0</td>\n      <td>68.0</td>\n      <td>37.0</td>\n      <td>26.5</td>\n      <td>NaN</td>\n      <td>2705.0</td>\n      <td>non-USA</td>\n      <td>Acura Integra</td>\n    </tr>\n    <tr>\n      <th>1</th>\n      <td>NaN</td>\n      <td>Legend</td>\n      <td>Midsize</td>\n      <td>29.2</td>\n      <td>33.9</td>\n      <td>38.7</td>\n      <td>18.0</td>\n      <td>25.0</td>\n      <td>Driver &amp; Passenger</td>\n      <td>Front</td>\n      <td>...</td>\n      <td>5.0</td>\n      <td>195.0</td>\n      <td>115.0</td>\n      <td>71.0</td>\n      <td>38.0</td>\n      <td>30.0</td>\n      <td>15.0</td>\n      <td>3560.0</td>\n      <td>non-USA</td>\n      <td>Acura Legend</td>\n    </tr>\n    <tr>\n      <th>2</th>\n      <td>Audi</td>\n      <td>90</td>\n      <td>Compact</td>\n      <td>25.9</td>\n      <td>29.1</td>\n      <td>32.3</td>\n      <td>20.0</td>\n      <td>26.0</td>\n      <td>Driver only</td>\n      <td>Front</td>\n      <td>...</td>\n      <td>5.0</td>\n      <td>180.0</td>\n      <td>102.0</td>\n      <td>67.0</td>\n      <td>37.0</td>\n      <td>28.0</td>\n      <td>14.0</td>\n      <td>3375.0</td>\n      <td>non-USA</td>\n      <td>Audi 90</td>\n    </tr>\n    <tr>\n      <th>3</th>\n      <td>Audi</td>\n      <td>100</td>\n      <td>Midsize</td>\n      <td>NaN</td>\n      <td>37.7</td>\n      <td>44.6</td>\n      <td>19.0</td>\n      <td>26.0</td>\n      <td>Driver &amp; Passenger</td>\n      <td>NaN</td>\n      <td>...</td>\n      <td>6.0</td>\n      <td>193.0</td>\n      <td>106.0</td>\n      <td>NaN</td>\n      <td>37.0</td>\n      <td>31.0</td>\n      <td>17.0</td>\n      <td>3405.0</td>\n      <td>non-USA</td>\n      <td>Audi 100</td>\n    </tr>\n    <tr>\n      <th>4</th>\n      <td>BMW</td>\n      <td>535i</td>\n      <td>Midsize</td>\n      <td>NaN</td>\n      <td>30.0</td>\n      <td>NaN</td>\n      <td>22.0</td>\n      <td>30.0</td>\n      <td>NaN</td>\n      <td>Rear</td>\n      <td>...</td>\n      <td>4.0</td>\n      <td>186.0</td>\n      <td>109.0</td>\n      <td>69.0</td>\n      <td>39.0</td>\n      <td>27.0</td>\n      <td>13.0</td>\n      <td>3640.0</td>\n      <td>non-USA</td>\n      <td>BMW 535i</td>\n    </tr>\n    <tr>\n      <th>...</th>\n      <td>...</td>\n      <td>...</td>\n      <td>...</td>\n      <td>...</td>\n      <td>...</td>\n      <td>...</td>\n      <td>...</td>\n      <td>...</td>\n      <td>...</td>\n      <td>...</td>\n      <td>...</td>\n      <td>...</td>\n      <td>...</td>\n      <td>...</td>\n      <td>...</td>\n      <td>...</td>\n      <td>...</td>\n      <td>...</td>\n      <td>...</td>\n      <td>...</td>\n      <td>...</td>\n    </tr>\n    <tr>\n      <th>88</th>\n      <td>Volkswagen</td>\n      <td>Eurovan</td>\n      <td>Van</td>\n      <td>16.6</td>\n      <td>19.7</td>\n      <td>22.7</td>\n      <td>17.0</td>\n      <td>21.0</td>\n      <td>None</td>\n      <td>Front</td>\n      <td>...</td>\n      <td>7.0</td>\n      <td>187.0</td>\n      <td>115.0</td>\n      <td>72.0</td>\n      <td>38.0</td>\n      <td>34.0</td>\n      <td>NaN</td>\n      <td>3960.0</td>\n      <td>NaN</td>\n      <td>Volkswagen Eurovan</td>\n    </tr>\n    <tr>\n      <th>89</th>\n      <td>Volkswagen</td>\n      <td>Passat</td>\n      <td>Compact</td>\n      <td>17.6</td>\n      <td>20.0</td>\n      <td>22.4</td>\n      <td>21.0</td>\n      <td>30.0</td>\n      <td>None</td>\n      <td>Front</td>\n      <td>...</td>\n      <td>5.0</td>\n      <td>180.0</td>\n      <td>103.0</td>\n      <td>67.0</td>\n      <td>35.0</td>\n      <td>31.5</td>\n      <td>14.0</td>\n      <td>2985.0</td>\n      <td>non-USA</td>\n      <td>Volkswagen Passat</td>\n    </tr>\n    <tr>\n      <th>90</th>\n      <td>Volkswagen</td>\n      <td>Corrado</td>\n      <td>Sporty</td>\n      <td>22.9</td>\n      <td>23.3</td>\n      <td>23.7</td>\n      <td>18.0</td>\n      <td>25.0</td>\n      <td>None</td>\n      <td>Front</td>\n      <td>...</td>\n      <td>4.0</td>\n      <td>159.0</td>\n      <td>97.0</td>\n      <td>66.0</td>\n      <td>36.0</td>\n      <td>26.0</td>\n      <td>15.0</td>\n      <td>2810.0</td>\n      <td>non-USA</td>\n      <td>Volkswagen Corrado</td>\n    </tr>\n    <tr>\n      <th>91</th>\n      <td>Volvo</td>\n      <td>240</td>\n      <td>Compact</td>\n      <td>21.8</td>\n      <td>22.7</td>\n      <td>23.5</td>\n      <td>21.0</td>\n      <td>28.0</td>\n      <td>Driver only</td>\n      <td>Rear</td>\n      <td>...</td>\n      <td>5.0</td>\n      <td>190.0</td>\n      <td>104.0</td>\n      <td>67.0</td>\n      <td>37.0</td>\n      <td>29.5</td>\n      <td>14.0</td>\n      <td>2985.0</td>\n      <td>non-USA</td>\n      <td>Volvo 240</td>\n    </tr>\n    <tr>\n      <th>92</th>\n      <td>NaN</td>\n      <td>850</td>\n      <td>Midsize</td>\n      <td>24.8</td>\n      <td>26.7</td>\n      <td>28.5</td>\n      <td>20.0</td>\n      <td>28.0</td>\n      <td>Driver &amp; Passenger</td>\n      <td>Front</td>\n      <td>...</td>\n      <td>5.0</td>\n      <td>184.0</td>\n      <td>105.0</td>\n      <td>69.0</td>\n      <td>38.0</td>\n      <td>30.0</td>\n      <td>15.0</td>\n      <td>3245.0</td>\n      <td>non-USA</td>\n      <td>Volvo 850</td>\n    </tr>\n  </tbody>\n</table>\n<p>93 rows × 27 columns</p>\n</div>"
     },
     "execution_count": 5,
     "metadata": {},
     "output_type": "execute_result"
    }
   ],
   "source": [
    "df = pd.read_csv('https://raw.githubusercontent.com/selva86/datasets/master/Cars93_miss.csv')\n",
    "df"
   ],
   "metadata": {
    "collapsed": false,
    "ExecuteTime": {
     "end_time": "2024-03-10T01:27:14.491810800Z",
     "start_time": "2024-03-10T01:27:14.344690100Z"
    }
   },
   "id": "c6c5709f14bb6ba7"
  },
  {
   "cell_type": "code",
   "execution_count": 10,
   "outputs": [],
   "source": [
    "df['Min.Price'].fillna(value = df['Min.Price'].mean(), inplace = True)"
   ],
   "metadata": {
    "collapsed": false,
    "ExecuteTime": {
     "end_time": "2024-03-10T01:32:55.700230Z",
     "start_time": "2024-03-10T01:32:55.674661600Z"
    }
   },
   "id": "c21e6954c42bae46"
  },
  {
   "cell_type": "code",
   "execution_count": 11,
   "outputs": [],
   "source": [
    "df['Max.Price'].fillna(value = df['Max.Price'].mean(), inplace = True)"
   ],
   "metadata": {
    "collapsed": false,
    "ExecuteTime": {
     "end_time": "2024-03-10T01:32:56.411309100Z",
     "start_time": "2024-03-10T01:32:56.409703700Z"
    }
   },
   "id": "837436e26e0668c6"
  },
  {
   "cell_type": "code",
   "execution_count": 12,
   "outputs": [
    {
     "data": {
      "text/plain": "   Manufacturer    Model     Type  Min.Price  Price  Max.Price  MPG.city  \\\n0         Acura  Integra    Small  12.900000   15.9  18.800000      25.0   \n1           NaN   Legend  Midsize  29.200000   33.9  38.700000      18.0   \n2          Audi       90  Compact  25.900000   29.1  32.300000      20.0   \n3          Audi      100  Midsize  17.118605   37.7  44.600000      19.0   \n4           BMW     535i  Midsize  17.118605   30.0  21.459091      22.0   \n..          ...      ...      ...        ...    ...        ...       ...   \n88   Volkswagen  Eurovan      Van  16.600000   19.7  22.700000      17.0   \n89   Volkswagen   Passat  Compact  17.600000   20.0  22.400000      21.0   \n90   Volkswagen  Corrado   Sporty  22.900000   23.3  23.700000      18.0   \n91        Volvo      240  Compact  21.800000   22.7  23.500000      21.0   \n92          NaN      850  Midsize  24.800000   26.7  28.500000      20.0   \n\n    MPG.highway             AirBags DriveTrain  ... Passengers  Length  \\\n0          31.0                None      Front  ...        5.0   177.0   \n1          25.0  Driver & Passenger      Front  ...        5.0   195.0   \n2          26.0         Driver only      Front  ...        5.0   180.0   \n3          26.0  Driver & Passenger        NaN  ...        6.0   193.0   \n4          30.0                 NaN       Rear  ...        4.0   186.0   \n..          ...                 ...        ...  ...        ...     ...   \n88         21.0                None      Front  ...        7.0   187.0   \n89         30.0                None      Front  ...        5.0   180.0   \n90         25.0                None      Front  ...        4.0   159.0   \n91         28.0         Driver only       Rear  ...        5.0   190.0   \n92         28.0  Driver & Passenger      Front  ...        5.0   184.0   \n\n    Wheelbase  Width  Turn.circle Rear.seat.room  Luggage.room  Weight  \\\n0       102.0   68.0         37.0           26.5           NaN  2705.0   \n1       115.0   71.0         38.0           30.0          15.0  3560.0   \n2       102.0   67.0         37.0           28.0          14.0  3375.0   \n3       106.0    NaN         37.0           31.0          17.0  3405.0   \n4       109.0   69.0         39.0           27.0          13.0  3640.0   \n..        ...    ...          ...            ...           ...     ...   \n88      115.0   72.0         38.0           34.0           NaN  3960.0   \n89      103.0   67.0         35.0           31.5          14.0  2985.0   \n90       97.0   66.0         36.0           26.0          15.0  2810.0   \n91      104.0   67.0         37.0           29.5          14.0  2985.0   \n92      105.0   69.0         38.0           30.0          15.0  3245.0   \n\n     Origin                Make  \n0   non-USA       Acura Integra  \n1   non-USA        Acura Legend  \n2   non-USA             Audi 90  \n3   non-USA            Audi 100  \n4   non-USA            BMW 535i  \n..      ...                 ...  \n88      NaN  Volkswagen Eurovan  \n89  non-USA   Volkswagen Passat  \n90  non-USA  Volkswagen Corrado  \n91  non-USA           Volvo 240  \n92  non-USA           Volvo 850  \n\n[93 rows x 27 columns]",
      "text/html": "<div>\n<style scoped>\n    .dataframe tbody tr th:only-of-type {\n        vertical-align: middle;\n    }\n\n    .dataframe tbody tr th {\n        vertical-align: top;\n    }\n\n    .dataframe thead th {\n        text-align: right;\n    }\n</style>\n<table border=\"1\" class=\"dataframe\">\n  <thead>\n    <tr style=\"text-align: right;\">\n      <th></th>\n      <th>Manufacturer</th>\n      <th>Model</th>\n      <th>Type</th>\n      <th>Min.Price</th>\n      <th>Price</th>\n      <th>Max.Price</th>\n      <th>MPG.city</th>\n      <th>MPG.highway</th>\n      <th>AirBags</th>\n      <th>DriveTrain</th>\n      <th>...</th>\n      <th>Passengers</th>\n      <th>Length</th>\n      <th>Wheelbase</th>\n      <th>Width</th>\n      <th>Turn.circle</th>\n      <th>Rear.seat.room</th>\n      <th>Luggage.room</th>\n      <th>Weight</th>\n      <th>Origin</th>\n      <th>Make</th>\n    </tr>\n  </thead>\n  <tbody>\n    <tr>\n      <th>0</th>\n      <td>Acura</td>\n      <td>Integra</td>\n      <td>Small</td>\n      <td>12.900000</td>\n      <td>15.9</td>\n      <td>18.800000</td>\n      <td>25.0</td>\n      <td>31.0</td>\n      <td>None</td>\n      <td>Front</td>\n      <td>...</td>\n      <td>5.0</td>\n      <td>177.0</td>\n      <td>102.0</td>\n      <td>68.0</td>\n      <td>37.0</td>\n      <td>26.5</td>\n      <td>NaN</td>\n      <td>2705.0</td>\n      <td>non-USA</td>\n      <td>Acura Integra</td>\n    </tr>\n    <tr>\n      <th>1</th>\n      <td>NaN</td>\n      <td>Legend</td>\n      <td>Midsize</td>\n      <td>29.200000</td>\n      <td>33.9</td>\n      <td>38.700000</td>\n      <td>18.0</td>\n      <td>25.0</td>\n      <td>Driver &amp; Passenger</td>\n      <td>Front</td>\n      <td>...</td>\n      <td>5.0</td>\n      <td>195.0</td>\n      <td>115.0</td>\n      <td>71.0</td>\n      <td>38.0</td>\n      <td>30.0</td>\n      <td>15.0</td>\n      <td>3560.0</td>\n      <td>non-USA</td>\n      <td>Acura Legend</td>\n    </tr>\n    <tr>\n      <th>2</th>\n      <td>Audi</td>\n      <td>90</td>\n      <td>Compact</td>\n      <td>25.900000</td>\n      <td>29.1</td>\n      <td>32.300000</td>\n      <td>20.0</td>\n      <td>26.0</td>\n      <td>Driver only</td>\n      <td>Front</td>\n      <td>...</td>\n      <td>5.0</td>\n      <td>180.0</td>\n      <td>102.0</td>\n      <td>67.0</td>\n      <td>37.0</td>\n      <td>28.0</td>\n      <td>14.0</td>\n      <td>3375.0</td>\n      <td>non-USA</td>\n      <td>Audi 90</td>\n    </tr>\n    <tr>\n      <th>3</th>\n      <td>Audi</td>\n      <td>100</td>\n      <td>Midsize</td>\n      <td>17.118605</td>\n      <td>37.7</td>\n      <td>44.600000</td>\n      <td>19.0</td>\n      <td>26.0</td>\n      <td>Driver &amp; Passenger</td>\n      <td>NaN</td>\n      <td>...</td>\n      <td>6.0</td>\n      <td>193.0</td>\n      <td>106.0</td>\n      <td>NaN</td>\n      <td>37.0</td>\n      <td>31.0</td>\n      <td>17.0</td>\n      <td>3405.0</td>\n      <td>non-USA</td>\n      <td>Audi 100</td>\n    </tr>\n    <tr>\n      <th>4</th>\n      <td>BMW</td>\n      <td>535i</td>\n      <td>Midsize</td>\n      <td>17.118605</td>\n      <td>30.0</td>\n      <td>21.459091</td>\n      <td>22.0</td>\n      <td>30.0</td>\n      <td>NaN</td>\n      <td>Rear</td>\n      <td>...</td>\n      <td>4.0</td>\n      <td>186.0</td>\n      <td>109.0</td>\n      <td>69.0</td>\n      <td>39.0</td>\n      <td>27.0</td>\n      <td>13.0</td>\n      <td>3640.0</td>\n      <td>non-USA</td>\n      <td>BMW 535i</td>\n    </tr>\n    <tr>\n      <th>...</th>\n      <td>...</td>\n      <td>...</td>\n      <td>...</td>\n      <td>...</td>\n      <td>...</td>\n      <td>...</td>\n      <td>...</td>\n      <td>...</td>\n      <td>...</td>\n      <td>...</td>\n      <td>...</td>\n      <td>...</td>\n      <td>...</td>\n      <td>...</td>\n      <td>...</td>\n      <td>...</td>\n      <td>...</td>\n      <td>...</td>\n      <td>...</td>\n      <td>...</td>\n      <td>...</td>\n    </tr>\n    <tr>\n      <th>88</th>\n      <td>Volkswagen</td>\n      <td>Eurovan</td>\n      <td>Van</td>\n      <td>16.600000</td>\n      <td>19.7</td>\n      <td>22.700000</td>\n      <td>17.0</td>\n      <td>21.0</td>\n      <td>None</td>\n      <td>Front</td>\n      <td>...</td>\n      <td>7.0</td>\n      <td>187.0</td>\n      <td>115.0</td>\n      <td>72.0</td>\n      <td>38.0</td>\n      <td>34.0</td>\n      <td>NaN</td>\n      <td>3960.0</td>\n      <td>NaN</td>\n      <td>Volkswagen Eurovan</td>\n    </tr>\n    <tr>\n      <th>89</th>\n      <td>Volkswagen</td>\n      <td>Passat</td>\n      <td>Compact</td>\n      <td>17.600000</td>\n      <td>20.0</td>\n      <td>22.400000</td>\n      <td>21.0</td>\n      <td>30.0</td>\n      <td>None</td>\n      <td>Front</td>\n      <td>...</td>\n      <td>5.0</td>\n      <td>180.0</td>\n      <td>103.0</td>\n      <td>67.0</td>\n      <td>35.0</td>\n      <td>31.5</td>\n      <td>14.0</td>\n      <td>2985.0</td>\n      <td>non-USA</td>\n      <td>Volkswagen Passat</td>\n    </tr>\n    <tr>\n      <th>90</th>\n      <td>Volkswagen</td>\n      <td>Corrado</td>\n      <td>Sporty</td>\n      <td>22.900000</td>\n      <td>23.3</td>\n      <td>23.700000</td>\n      <td>18.0</td>\n      <td>25.0</td>\n      <td>None</td>\n      <td>Front</td>\n      <td>...</td>\n      <td>4.0</td>\n      <td>159.0</td>\n      <td>97.0</td>\n      <td>66.0</td>\n      <td>36.0</td>\n      <td>26.0</td>\n      <td>15.0</td>\n      <td>2810.0</td>\n      <td>non-USA</td>\n      <td>Volkswagen Corrado</td>\n    </tr>\n    <tr>\n      <th>91</th>\n      <td>Volvo</td>\n      <td>240</td>\n      <td>Compact</td>\n      <td>21.800000</td>\n      <td>22.7</td>\n      <td>23.500000</td>\n      <td>21.0</td>\n      <td>28.0</td>\n      <td>Driver only</td>\n      <td>Rear</td>\n      <td>...</td>\n      <td>5.0</td>\n      <td>190.0</td>\n      <td>104.0</td>\n      <td>67.0</td>\n      <td>37.0</td>\n      <td>29.5</td>\n      <td>14.0</td>\n      <td>2985.0</td>\n      <td>non-USA</td>\n      <td>Volvo 240</td>\n    </tr>\n    <tr>\n      <th>92</th>\n      <td>NaN</td>\n      <td>850</td>\n      <td>Midsize</td>\n      <td>24.800000</td>\n      <td>26.7</td>\n      <td>28.500000</td>\n      <td>20.0</td>\n      <td>28.0</td>\n      <td>Driver &amp; Passenger</td>\n      <td>Front</td>\n      <td>...</td>\n      <td>5.0</td>\n      <td>184.0</td>\n      <td>105.0</td>\n      <td>69.0</td>\n      <td>38.0</td>\n      <td>30.0</td>\n      <td>15.0</td>\n      <td>3245.0</td>\n      <td>non-USA</td>\n      <td>Volvo 850</td>\n    </tr>\n  </tbody>\n</table>\n<p>93 rows × 27 columns</p>\n</div>"
     },
     "execution_count": 12,
     "metadata": {},
     "output_type": "execute_result"
    }
   ],
   "source": [
    "df"
   ],
   "metadata": {
    "collapsed": false,
    "ExecuteTime": {
     "end_time": "2024-03-10T01:32:57.053959200Z",
     "start_time": "2024-03-10T01:32:57.046075Z"
    }
   },
   "id": "d06759bb88611f43"
  },
  {
   "cell_type": "code",
   "execution_count": null,
   "outputs": [],
   "source": [],
   "metadata": {
    "collapsed": false
   },
   "id": "4b588981a07a023c"
  },
  {
   "cell_type": "markdown",
   "source": [
    "3) How to get the rows of a dataframe with row sum > 100?\n",
    "df = pd.DataFrame(np.random.randint(10, 40, 60).reshape(-1, 4))"
   ],
   "metadata": {
    "collapsed": false
   },
   "id": "90a7917f34c1d8a0"
  },
  {
   "cell_type": "code",
   "execution_count": 13,
   "outputs": [],
   "source": [
    "df = pd.DataFrame(np.random.randint(10, 40, 60).reshape(-1, 4))"
   ],
   "metadata": {
    "collapsed": false,
    "ExecuteTime": {
     "end_time": "2024-03-10T01:34:52.616208100Z",
     "start_time": "2024-03-10T01:34:52.596747300Z"
    }
   },
   "id": "90cb2917123b4cf"
  },
  {
   "cell_type": "code",
   "execution_count": 14,
   "outputs": [
    {
     "data": {
      "text/plain": "     0   1   2   3\n0   26  37  28  22\n1   23  11  29  22\n2   14  35  27  28\n3   22  17  33  23\n4   18  18  35  35\n5   18  13  17  26\n6   16  13  14  27\n7   21  28  19  10\n8   28  32  15  10\n9   12  34  17  13\n10  28  30  26  31\n11  14  37  37  14\n12  39  26  39  31\n13  23  24  37  10\n14  35  26  14  21",
      "text/html": "<div>\n<style scoped>\n    .dataframe tbody tr th:only-of-type {\n        vertical-align: middle;\n    }\n\n    .dataframe tbody tr th {\n        vertical-align: top;\n    }\n\n    .dataframe thead th {\n        text-align: right;\n    }\n</style>\n<table border=\"1\" class=\"dataframe\">\n  <thead>\n    <tr style=\"text-align: right;\">\n      <th></th>\n      <th>0</th>\n      <th>1</th>\n      <th>2</th>\n      <th>3</th>\n    </tr>\n  </thead>\n  <tbody>\n    <tr>\n      <th>0</th>\n      <td>26</td>\n      <td>37</td>\n      <td>28</td>\n      <td>22</td>\n    </tr>\n    <tr>\n      <th>1</th>\n      <td>23</td>\n      <td>11</td>\n      <td>29</td>\n      <td>22</td>\n    </tr>\n    <tr>\n      <th>2</th>\n      <td>14</td>\n      <td>35</td>\n      <td>27</td>\n      <td>28</td>\n    </tr>\n    <tr>\n      <th>3</th>\n      <td>22</td>\n      <td>17</td>\n      <td>33</td>\n      <td>23</td>\n    </tr>\n    <tr>\n      <th>4</th>\n      <td>18</td>\n      <td>18</td>\n      <td>35</td>\n      <td>35</td>\n    </tr>\n    <tr>\n      <th>5</th>\n      <td>18</td>\n      <td>13</td>\n      <td>17</td>\n      <td>26</td>\n    </tr>\n    <tr>\n      <th>6</th>\n      <td>16</td>\n      <td>13</td>\n      <td>14</td>\n      <td>27</td>\n    </tr>\n    <tr>\n      <th>7</th>\n      <td>21</td>\n      <td>28</td>\n      <td>19</td>\n      <td>10</td>\n    </tr>\n    <tr>\n      <th>8</th>\n      <td>28</td>\n      <td>32</td>\n      <td>15</td>\n      <td>10</td>\n    </tr>\n    <tr>\n      <th>9</th>\n      <td>12</td>\n      <td>34</td>\n      <td>17</td>\n      <td>13</td>\n    </tr>\n    <tr>\n      <th>10</th>\n      <td>28</td>\n      <td>30</td>\n      <td>26</td>\n      <td>31</td>\n    </tr>\n    <tr>\n      <th>11</th>\n      <td>14</td>\n      <td>37</td>\n      <td>37</td>\n      <td>14</td>\n    </tr>\n    <tr>\n      <th>12</th>\n      <td>39</td>\n      <td>26</td>\n      <td>39</td>\n      <td>31</td>\n    </tr>\n    <tr>\n      <th>13</th>\n      <td>23</td>\n      <td>24</td>\n      <td>37</td>\n      <td>10</td>\n    </tr>\n    <tr>\n      <th>14</th>\n      <td>35</td>\n      <td>26</td>\n      <td>14</td>\n      <td>21</td>\n    </tr>\n  </tbody>\n</table>\n</div>"
     },
     "execution_count": 14,
     "metadata": {},
     "output_type": "execute_result"
    }
   ],
   "source": [
    "df"
   ],
   "metadata": {
    "collapsed": false,
    "ExecuteTime": {
     "end_time": "2024-03-10T01:34:53.000639300Z",
     "start_time": "2024-03-10T01:34:52.976097200Z"
    }
   },
   "id": "f6a1a0533964e1c4"
  },
  {
   "cell_type": "code",
   "execution_count": 17,
   "outputs": [
    {
     "data": {
      "text/plain": "     0   1   2   3\n0   26  37  28  22\n2   14  35  27  28\n4   18  18  35  35\n10  28  30  26  31\n11  14  37  37  14\n12  39  26  39  31",
      "text/html": "<div>\n<style scoped>\n    .dataframe tbody tr th:only-of-type {\n        vertical-align: middle;\n    }\n\n    .dataframe tbody tr th {\n        vertical-align: top;\n    }\n\n    .dataframe thead th {\n        text-align: right;\n    }\n</style>\n<table border=\"1\" class=\"dataframe\">\n  <thead>\n    <tr style=\"text-align: right;\">\n      <th></th>\n      <th>0</th>\n      <th>1</th>\n      <th>2</th>\n      <th>3</th>\n    </tr>\n  </thead>\n  <tbody>\n    <tr>\n      <th>0</th>\n      <td>26</td>\n      <td>37</td>\n      <td>28</td>\n      <td>22</td>\n    </tr>\n    <tr>\n      <th>2</th>\n      <td>14</td>\n      <td>35</td>\n      <td>27</td>\n      <td>28</td>\n    </tr>\n    <tr>\n      <th>4</th>\n      <td>18</td>\n      <td>18</td>\n      <td>35</td>\n      <td>35</td>\n    </tr>\n    <tr>\n      <th>10</th>\n      <td>28</td>\n      <td>30</td>\n      <td>26</td>\n      <td>31</td>\n    </tr>\n    <tr>\n      <th>11</th>\n      <td>14</td>\n      <td>37</td>\n      <td>37</td>\n      <td>14</td>\n    </tr>\n    <tr>\n      <th>12</th>\n      <td>39</td>\n      <td>26</td>\n      <td>39</td>\n      <td>31</td>\n    </tr>\n  </tbody>\n</table>\n</div>"
     },
     "execution_count": 17,
     "metadata": {},
     "output_type": "execute_result"
    }
   ],
   "source": [
    "df[df.sum(axis=1) > 100]"
   ],
   "metadata": {
    "collapsed": false,
    "ExecuteTime": {
     "end_time": "2024-03-10T01:48:31.376285200Z",
     "start_time": "2024-03-10T01:48:31.356778200Z"
    }
   },
   "id": "37b9e1c278ad4e7e"
  },
  {
   "cell_type": "code",
   "execution_count": null,
   "outputs": [],
   "source": [],
   "metadata": {
    "collapsed": false
   },
   "id": "439065e7ab96253c"
  },
  {
   "cell_type": "code",
   "execution_count": null,
   "outputs": [],
   "source": [],
   "metadata": {
    "collapsed": false
   },
   "id": "e81a3d0931ddf33f"
  },
  {
   "cell_type": "markdown",
   "source": [
    "4) Create a 4x4 NumPy array filled with random integers between 1 and 100. Then, reshape this array into two separate 2D arrays, where one represents the rows and the other represents the columns. Write a function, preferably using a lambda function, to calculate the sum of each row and each column separately, and return the results as two separate NumPy arrays\n"
   ],
   "metadata": {
    "collapsed": false
   },
   "id": "8c2656dc113e5bc9"
  },
  {
   "cell_type": "code",
   "execution_count": 19,
   "outputs": [
    {
     "data": {
      "text/plain": "array([[15, 25, 93, 27],\n       [ 7, 54, 87, 44],\n       [10, 15, 24, 31],\n       [50, 43, 25, 98]])"
     },
     "execution_count": 19,
     "metadata": {},
     "output_type": "execute_result"
    }
   ],
   "source": [
    "array = np.random.randint(1, 101, size=(4, 4))\n",
    "array"
   ],
   "metadata": {
    "collapsed": false,
    "ExecuteTime": {
     "end_time": "2024-03-10T01:52:35.233927800Z",
     "start_time": "2024-03-10T01:52:35.227947800Z"
    }
   },
   "id": "c68e01bb3fb22250"
  },
  {
   "cell_type": "code",
   "execution_count": 25,
   "outputs": [
    {
     "data": {
      "text/plain": "[[15, 25, 93, 27], [7, 54, 87, 44], [10, 15, 24, 31], [50, 43, 25, 98]]"
     },
     "execution_count": 25,
     "metadata": {},
     "output_type": "execute_result"
    }
   ],
   "source": [
    "arr_rows = array.tolist()\n",
    "arr_rows"
   ],
   "metadata": {
    "collapsed": false,
    "ExecuteTime": {
     "end_time": "2024-03-10T02:11:46.024569900Z",
     "start_time": "2024-03-10T02:11:46.007698400Z"
    }
   },
   "id": "3e80f39a2cea454d"
  },
  {
   "cell_type": "code",
   "execution_count": 26,
   "outputs": [
    {
     "data": {
      "text/plain": "[[15, 7, 10, 50], [25, 54, 15, 43], [93, 87, 24, 25], [27, 44, 31, 98]]"
     },
     "execution_count": 26,
     "metadata": {},
     "output_type": "execute_result"
    }
   ],
   "source": [
    "arr_col = array.T.tolist()\n",
    "arr_col"
   ],
   "metadata": {
    "collapsed": false,
    "ExecuteTime": {
     "end_time": "2024-03-10T02:12:03.375507100Z",
     "start_time": "2024-03-10T02:12:03.355830700Z"
    }
   },
   "id": "d8cb9cfdee2eca83"
  },
  {
   "cell_type": "code",
   "execution_count": 29,
   "outputs": [
    {
     "data": {
      "text/plain": "[160, 192, 80, 216]"
     },
     "execution_count": 29,
     "metadata": {},
     "output_type": "execute_result"
    }
   ],
   "source": [
    "sum_rows = list(map(lambda x: sum(x), arr_rows))\n",
    "sum_rows"
   ],
   "metadata": {
    "collapsed": false,
    "ExecuteTime": {
     "end_time": "2024-03-10T02:34:04.207490300Z",
     "start_time": "2024-03-10T02:34:04.187163900Z"
    }
   },
   "id": "3fddc0a49b41fbe2"
  },
  {
   "cell_type": "code",
   "execution_count": 30,
   "outputs": [
    {
     "data": {
      "text/plain": "[82, 137, 229, 200]"
     },
     "execution_count": 30,
     "metadata": {},
     "output_type": "execute_result"
    }
   ],
   "source": [
    "sum_cols = list(map(lambda x: sum(x), arr_col))\n",
    "sum_cols"
   ],
   "metadata": {
    "collapsed": false,
    "ExecuteTime": {
     "end_time": "2024-03-10T02:34:55.173192600Z",
     "start_time": "2024-03-10T02:34:55.170316500Z"
    }
   },
   "id": "bdc3ed9d1da1836b"
  },
  {
   "cell_type": "code",
   "execution_count": null,
   "outputs": [],
   "source": [],
   "metadata": {
    "collapsed": false
   },
   "id": "b74adf3bee16a3ae"
  },
  {
   "cell_type": "code",
   "execution_count": null,
   "outputs": [],
   "source": [],
   "metadata": {
    "collapsed": false
   },
   "id": "3e17efc22e46dbc9"
  },
  {
   "cell_type": "code",
   "execution_count": null,
   "outputs": [],
   "source": [],
   "metadata": {
    "collapsed": false
   },
   "id": "73422bf657e4613d"
  }
 ],
 "metadata": {
  "kernelspec": {
   "display_name": "Python 3",
   "language": "python",
   "name": "python3"
  },
  "language_info": {
   "codemirror_mode": {
    "name": "ipython",
    "version": 2
   },
   "file_extension": ".py",
   "mimetype": "text/x-python",
   "name": "python",
   "nbconvert_exporter": "python",
   "pygments_lexer": "ipython2",
   "version": "2.7.6"
  }
 },
 "nbformat": 4,
 "nbformat_minor": 5
}
