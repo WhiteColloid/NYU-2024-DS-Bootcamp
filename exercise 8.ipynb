{
 "cells": [
  {
   "cell_type": "markdown",
   "source": [
    "### 1)Try different thresholds for computing predictions using 'Al' column. By default it is 0.5. Use predict_proba function to compute probabilities and then try custom thresholds and see their impact on Accuracy, Precision and Recall."
   ],
   "metadata": {
    "collapsed": false
   },
   "id": "29b7116a67688bc0"
  },
  {
   "cell_type": "code",
   "execution_count": 5,
   "outputs": [],
   "source": [
    "import pandas as pd\n",
    "from sklearn.model_selection import train_test_split\n",
    "from sklearn.linear_model import LogisticRegression\n",
    "from sklearn.metrics import accuracy_score, precision_score, recall_score\n",
    "from sklearn.preprocessing import StandardScaler\n",
    "from sklearn.pipeline import Pipeline\n",
    "from sklearn.metrics import classification_report"
   ],
   "metadata": {
    "collapsed": false,
    "ExecuteTime": {
     "end_time": "2024-05-01T17:11:02.008563500Z",
     "start_time": "2024-05-01T17:11:01.996615300Z"
    }
   },
   "id": "308038e75d36bc63"
  },
  {
   "cell_type": "code",
   "execution_count": 3,
   "outputs": [
    {
     "name": "stdout",
     "output_type": "stream",
     "text": [
      "   Threshold  Accuracy  Precision    Recall\n",
      "0        0.4  0.720930   0.454545  0.454545\n",
      "1        0.6  0.697674   0.000000  0.000000\n",
      "2        0.8  0.744186   0.000000  0.000000\n"
     ]
    },
    {
     "name": "stderr",
     "output_type": "stream",
     "text": [
      "C:\\Users\\Luoyr\\anaconda3\\Lib\\site-packages\\sklearn\\metrics\\_classification.py:1344: UndefinedMetricWarning: Precision is ill-defined and being set to 0.0 due to no predicted samples. Use `zero_division` parameter to control this behavior.\n",
      "  _warn_prf(average, modifier, msg_start, len(result))\n"
     ]
    }
   ],
   "source": [
    "data = pd.read_csv('glass.csv')\n",
    "\n",
    "\n",
    "X = data['Al'].values.reshape(-1, 1)  # Reshape \n",
    "y = data['Type'].apply(lambda x: 1 if x == 1 else 0) \n",
    "\n",
    "X_train, X_test, y_train, y_test = train_test_split(X, y, test_size=0.2, random_state=42)\n",
    "\n",
    "# logistic regression\n",
    "model = LogisticRegression(solver='liblinear')\n",
    "model.fit(X_train, y_train)\n",
    "\n",
    "# Predict\n",
    "y_probs = model.predict_proba(X_test)[:, 1]  # Get probabilities for the positive class\n",
    "\n",
    "# Different thresholds\n",
    "thresholds = [0.4, 0.6, 0.8]\n",
    "metrics = []\n",
    "\n",
    "for threshold in thresholds:\n",
    "    y_pred = (y_probs >= threshold).astype(int)\n",
    "    accuracy = accuracy_score(y_test, y_pred)\n",
    "    precision = precision_score(y_test, y_pred)\n",
    "    recall = recall_score(y_test, y_pred)\n",
    "    metrics.append((threshold, accuracy, precision, recall))\n",
    "\n",
    "metrics_df = pd.DataFrame(metrics, columns=['Threshold', 'Accuracy', 'Precision', 'Recall'])\n",
    "print(metrics_df)"
   ],
   "metadata": {
    "collapsed": false,
    "ExecuteTime": {
     "end_time": "2024-05-01T17:06:16.242652700Z",
     "start_time": "2024-05-01T17:06:16.223880300Z"
    }
   },
   "id": "64afe7677cceab0e"
  },
  {
   "cell_type": "markdown",
   "source": [],
   "metadata": {
    "collapsed": false
   },
   "id": "8fd116433012de80"
  },
  {
   "cell_type": "markdown",
   "source": [
    "### 2)Do the same analysis for other columns"
   ],
   "metadata": {
    "collapsed": false
   },
   "id": "fc23ff94a944ac15"
  },
  {
   "cell_type": "code",
   "execution_count": 4,
   "outputs": [
    {
     "name": "stdout",
     "output_type": "stream",
     "text": [
      "Results for feature: Na\n",
      "   Threshold  Accuracy  Precision  Recall\n",
      "0        0.4  0.744186        0.0     0.0\n",
      "1        0.6  0.744186        0.0     0.0\n",
      "2        0.8  0.744186        0.0     0.0\n",
      "\n",
      "\n",
      "Results for feature: Mg\n",
      "   Threshold  Accuracy  Precision    Recall\n",
      "0        0.4  0.744186        0.5  0.909091\n",
      "1        0.6  0.744186        0.0  0.000000\n",
      "2        0.8  0.744186        0.0  0.000000\n",
      "\n",
      "\n",
      "Results for feature: Si\n",
      "   Threshold  Accuracy  Precision  Recall\n",
      "0        0.4  0.744186        0.0     0.0\n",
      "1        0.6  0.744186        0.0     0.0\n",
      "2        0.8  0.744186        0.0     0.0\n",
      "\n",
      "\n",
      "Results for feature: K\n",
      "   Threshold  Accuracy  Precision  Recall\n",
      "0        0.4  0.744186        0.0     0.0\n",
      "1        0.6  0.744186        0.0     0.0\n",
      "2        0.8  0.744186        0.0     0.0\n",
      "\n",
      "\n",
      "Results for feature: Ca\n",
      "   Threshold  Accuracy  Precision  Recall\n",
      "0        0.4  0.744186        0.0     0.0\n",
      "1        0.6  0.744186        0.0     0.0\n",
      "2        0.8  0.744186        0.0     0.0\n",
      "\n",
      "\n",
      "Results for feature: Ba\n",
      "   Threshold  Accuracy  Precision  Recall\n",
      "0        0.4  0.744186        0.0     0.0\n",
      "1        0.6  0.744186        0.0     0.0\n",
      "2        0.8  0.744186        0.0     0.0\n",
      "\n",
      "\n",
      "Results for feature: Fe\n",
      "   Threshold  Accuracy  Precision  Recall\n",
      "0        0.4  0.744186        0.0     0.0\n",
      "1        0.6  0.744186        0.0     0.0\n",
      "2        0.8  0.744186        0.0     0.0\n"
     ]
    },
    {
     "name": "stderr",
     "output_type": "stream",
     "text": [
      "C:\\Users\\Luoyr\\anaconda3\\Lib\\site-packages\\sklearn\\metrics\\_classification.py:1344: UndefinedMetricWarning: Precision is ill-defined and being set to 0.0 due to no predicted samples. Use `zero_division` parameter to control this behavior.\n",
      "  _warn_prf(average, modifier, msg_start, len(result))\n",
      "C:\\Users\\Luoyr\\anaconda3\\Lib\\site-packages\\sklearn\\metrics\\_classification.py:1344: UndefinedMetricWarning: Precision is ill-defined and being set to 0.0 due to no predicted samples. Use `zero_division` parameter to control this behavior.\n",
      "  _warn_prf(average, modifier, msg_start, len(result))\n",
      "C:\\Users\\Luoyr\\anaconda3\\Lib\\site-packages\\sklearn\\metrics\\_classification.py:1344: UndefinedMetricWarning: Precision is ill-defined and being set to 0.0 due to no predicted samples. Use `zero_division` parameter to control this behavior.\n",
      "  _warn_prf(average, modifier, msg_start, len(result))\n",
      "C:\\Users\\Luoyr\\anaconda3\\Lib\\site-packages\\sklearn\\metrics\\_classification.py:1344: UndefinedMetricWarning: Precision is ill-defined and being set to 0.0 due to no predicted samples. Use `zero_division` parameter to control this behavior.\n",
      "  _warn_prf(average, modifier, msg_start, len(result))\n",
      "C:\\Users\\Luoyr\\anaconda3\\Lib\\site-packages\\sklearn\\metrics\\_classification.py:1344: UndefinedMetricWarning: Precision is ill-defined and being set to 0.0 due to no predicted samples. Use `zero_division` parameter to control this behavior.\n",
      "  _warn_prf(average, modifier, msg_start, len(result))\n",
      "C:\\Users\\Luoyr\\anaconda3\\Lib\\site-packages\\sklearn\\metrics\\_classification.py:1344: UndefinedMetricWarning: Precision is ill-defined and being set to 0.0 due to no predicted samples. Use `zero_division` parameter to control this behavior.\n",
      "  _warn_prf(average, modifier, msg_start, len(result))\n",
      "C:\\Users\\Luoyr\\anaconda3\\Lib\\site-packages\\sklearn\\metrics\\_classification.py:1344: UndefinedMetricWarning: Precision is ill-defined and being set to 0.0 due to no predicted samples. Use `zero_division` parameter to control this behavior.\n",
      "  _warn_prf(average, modifier, msg_start, len(result))\n",
      "C:\\Users\\Luoyr\\anaconda3\\Lib\\site-packages\\sklearn\\metrics\\_classification.py:1344: UndefinedMetricWarning: Precision is ill-defined and being set to 0.0 due to no predicted samples. Use `zero_division` parameter to control this behavior.\n",
      "  _warn_prf(average, modifier, msg_start, len(result))\n",
      "C:\\Users\\Luoyr\\anaconda3\\Lib\\site-packages\\sklearn\\metrics\\_classification.py:1344: UndefinedMetricWarning: Precision is ill-defined and being set to 0.0 due to no predicted samples. Use `zero_division` parameter to control this behavior.\n",
      "  _warn_prf(average, modifier, msg_start, len(result))\n",
      "C:\\Users\\Luoyr\\anaconda3\\Lib\\site-packages\\sklearn\\metrics\\_classification.py:1344: UndefinedMetricWarning: Precision is ill-defined and being set to 0.0 due to no predicted samples. Use `zero_division` parameter to control this behavior.\n",
      "  _warn_prf(average, modifier, msg_start, len(result))\n",
      "C:\\Users\\Luoyr\\anaconda3\\Lib\\site-packages\\sklearn\\metrics\\_classification.py:1344: UndefinedMetricWarning: Precision is ill-defined and being set to 0.0 due to no predicted samples. Use `zero_division` parameter to control this behavior.\n",
      "  _warn_prf(average, modifier, msg_start, len(result))\n",
      "C:\\Users\\Luoyr\\anaconda3\\Lib\\site-packages\\sklearn\\metrics\\_classification.py:1344: UndefinedMetricWarning: Precision is ill-defined and being set to 0.0 due to no predicted samples. Use `zero_division` parameter to control this behavior.\n",
      "  _warn_prf(average, modifier, msg_start, len(result))\n",
      "C:\\Users\\Luoyr\\anaconda3\\Lib\\site-packages\\sklearn\\metrics\\_classification.py:1344: UndefinedMetricWarning: Precision is ill-defined and being set to 0.0 due to no predicted samples. Use `zero_division` parameter to control this behavior.\n",
      "  _warn_prf(average, modifier, msg_start, len(result))\n",
      "C:\\Users\\Luoyr\\anaconda3\\Lib\\site-packages\\sklearn\\metrics\\_classification.py:1344: UndefinedMetricWarning: Precision is ill-defined and being set to 0.0 due to no predicted samples. Use `zero_division` parameter to control this behavior.\n",
      "  _warn_prf(average, modifier, msg_start, len(result))\n",
      "C:\\Users\\Luoyr\\anaconda3\\Lib\\site-packages\\sklearn\\metrics\\_classification.py:1344: UndefinedMetricWarning: Precision is ill-defined and being set to 0.0 due to no predicted samples. Use `zero_division` parameter to control this behavior.\n",
      "  _warn_prf(average, modifier, msg_start, len(result))\n",
      "C:\\Users\\Luoyr\\anaconda3\\Lib\\site-packages\\sklearn\\metrics\\_classification.py:1344: UndefinedMetricWarning: Precision is ill-defined and being set to 0.0 due to no predicted samples. Use `zero_division` parameter to control this behavior.\n",
      "  _warn_prf(average, modifier, msg_start, len(result))\n",
      "C:\\Users\\Luoyr\\anaconda3\\Lib\\site-packages\\sklearn\\metrics\\_classification.py:1344: UndefinedMetricWarning: Precision is ill-defined and being set to 0.0 due to no predicted samples. Use `zero_division` parameter to control this behavior.\n",
      "  _warn_prf(average, modifier, msg_start, len(result))\n",
      "C:\\Users\\Luoyr\\anaconda3\\Lib\\site-packages\\sklearn\\metrics\\_classification.py:1344: UndefinedMetricWarning: Precision is ill-defined and being set to 0.0 due to no predicted samples. Use `zero_division` parameter to control this behavior.\n",
      "  _warn_prf(average, modifier, msg_start, len(result))\n",
      "C:\\Users\\Luoyr\\anaconda3\\Lib\\site-packages\\sklearn\\metrics\\_classification.py:1344: UndefinedMetricWarning: Precision is ill-defined and being set to 0.0 due to no predicted samples. Use `zero_division` parameter to control this behavior.\n",
      "  _warn_prf(average, modifier, msg_start, len(result))\n",
      "C:\\Users\\Luoyr\\anaconda3\\Lib\\site-packages\\sklearn\\metrics\\_classification.py:1344: UndefinedMetricWarning: Precision is ill-defined and being set to 0.0 due to no predicted samples. Use `zero_division` parameter to control this behavior.\n",
      "  _warn_prf(average, modifier, msg_start, len(result))\n"
     ]
    }
   ],
   "source": [
    "def evaluate_feature(feature_name, data, thresholds=[0.4, 0.6, 0.8]):\n",
    "    X = data[feature_name].values.reshape(-1, 1)  # Reshapee\n",
    "    y = data['Type'].apply(lambda x: 1 if x == 1 else 0) \n",
    "\n",
    "    # Split the data\n",
    "    X_train, X_test, y_train, y_test = train_test_split(X, y, test_size=0.2, random_state=42)\n",
    "\n",
    "    #  logistic regression model\n",
    "    model = LogisticRegression(solver='liblinear')\n",
    "    model.fit(X_train, y_train)\n",
    "\n",
    "    # Predict probabilities\n",
    "    y_probs = model.predict_proba(X_test)[:, 1] \n",
    "\n",
    "    metrics = []\n",
    "\n",
    "    # different thresholds\n",
    "    for threshold in thresholds:\n",
    "        y_pred = (y_probs >= threshold).astype(int)\n",
    "        accuracy = accuracy_score(y_test, y_pred)\n",
    "        precision = precision_score(y_test, y_pred)\n",
    "        recall = recall_score(y_test, y_pred)\n",
    "        metrics.append((threshold, accuracy, precision, recall))\n",
    "\n",
    "    # visualization\n",
    "    metrics_df = pd.DataFrame(metrics, columns=['Threshold', 'Accuracy', 'Precision', 'Recall'])\n",
    "    print(f\"Results for feature: {feature_name}\")\n",
    "    print(metrics_df)\n",
    "    print(\"\\n\")\n",
    "\n",
    "data = pd.read_csv('glass.csv')\n",
    "\n",
    "features = ['Na', 'Mg', 'Si', 'K', 'Ca', 'Ba', 'Fe']  # Add other features you want to analyze\n",
    "\n",
    "for feature in features:\n",
    "    evaluate_feature(feature, data)\n"
   ],
   "metadata": {
    "collapsed": false,
    "ExecuteTime": {
     "end_time": "2024-05-01T17:09:30.636330300Z",
     "start_time": "2024-05-01T17:09:30.587331200Z"
    }
   },
   "id": "dac9dd6213990be0"
  },
  {
   "cell_type": "markdown",
   "source": [
    "### 3)Fit a Logistic Regression Model on all features. Remember to preprocess data(eg. normalization and one hot encoding).\n"
   ],
   "metadata": {
    "collapsed": false
   },
   "id": "9bcfcc4d7e895e29"
  },
  {
   "cell_type": "code",
   "execution_count": 6,
   "outputs": [
    {
     "name": "stdout",
     "output_type": "stream",
     "text": [
      "              precision    recall  f1-score   support\n",
      "\n",
      "           1       0.56      0.82      0.67        11\n",
      "           2       0.50      0.57      0.53        14\n",
      "           3       0.00      0.00      0.00         3\n",
      "           5       1.00      0.25      0.40         4\n",
      "           6       0.00      0.00      0.00         3\n",
      "           7       0.80      1.00      0.89         8\n",
      "\n",
      "    accuracy                           0.60        43\n",
      "   macro avg       0.48      0.44      0.41        43\n",
      "weighted avg       0.55      0.60      0.55        43\n"
     ]
    },
    {
     "name": "stderr",
     "output_type": "stream",
     "text": [
      "C:\\Users\\Luoyr\\anaconda3\\Lib\\site-packages\\sklearn\\metrics\\_classification.py:1344: UndefinedMetricWarning: Precision and F-score are ill-defined and being set to 0.0 in labels with no predicted samples. Use `zero_division` parameter to control this behavior.\n",
      "  _warn_prf(average, modifier, msg_start, len(result))\n",
      "C:\\Users\\Luoyr\\anaconda3\\Lib\\site-packages\\sklearn\\metrics\\_classification.py:1344: UndefinedMetricWarning: Precision and F-score are ill-defined and being set to 0.0 in labels with no predicted samples. Use `zero_division` parameter to control this behavior.\n",
      "  _warn_prf(average, modifier, msg_start, len(result))\n",
      "C:\\Users\\Luoyr\\anaconda3\\Lib\\site-packages\\sklearn\\metrics\\_classification.py:1344: UndefinedMetricWarning: Precision and F-score are ill-defined and being set to 0.0 in labels with no predicted samples. Use `zero_division` parameter to control this behavior.\n",
      "  _warn_prf(average, modifier, msg_start, len(result))\n"
     ]
    }
   ],
   "source": [
    "data = pd.read_csv('glass.csv')\n",
    "\n",
    "X = data.drop('Type', axis=1)  \n",
    "y = data['Type']  \n",
    "\n",
    "# Split the data \n",
    "X_train, X_test, y_train, y_test = train_test_split(X, y, test_size=0.2, random_state=42)\n",
    "\n",
    "# logistic regression\n",
    "pipeline = Pipeline([\n",
    "    ('scaler', StandardScaler()),  # Normalize\n",
    "    ('classifier', LogisticRegression(solver='liblinear', multi_class='ovr'))  \n",
    "])\n",
    "\n",
    "# Train the model\n",
    "pipeline.fit(X_train, y_train)\n",
    "\n",
    "# Predict on the test set\n",
    "y_pred = pipeline.predict(X_test)\n",
    "\n",
    "# Evaluate\n",
    "print(classification_report(y_test, y_pred))"
   ],
   "metadata": {
    "collapsed": false,
    "ExecuteTime": {
     "end_time": "2024-05-01T17:12:43.863629300Z",
     "start_time": "2024-05-01T17:12:43.819508800Z"
    }
   },
   "id": "670c9e8c9326bb67"
  },
  {
   "cell_type": "code",
   "execution_count": null,
   "outputs": [],
   "source": [],
   "metadata": {
    "collapsed": false
   },
   "id": "93855f76a8213898"
  },
  {
   "cell_type": "code",
   "execution_count": null,
   "outputs": [],
   "source": [],
   "metadata": {
    "collapsed": false
   },
   "id": "394478456fac8e31"
  },
  {
   "cell_type": "code",
   "execution_count": null,
   "outputs": [],
   "source": [],
   "metadata": {
    "collapsed": false
   },
   "id": "395d9b92732a738d"
  },
  {
   "cell_type": "code",
   "execution_count": null,
   "outputs": [],
   "source": [],
   "metadata": {
    "collapsed": false
   },
   "id": "699a4fa37749c453"
  },
  {
   "cell_type": "code",
   "execution_count": null,
   "outputs": [],
   "source": [],
   "metadata": {
    "collapsed": false
   },
   "id": "787ac937bdb9ed96"
  }
 ],
 "metadata": {
  "kernelspec": {
   "display_name": "Python 3",
   "language": "python",
   "name": "python3"
  },
  "language_info": {
   "codemirror_mode": {
    "name": "ipython",
    "version": 2
   },
   "file_extension": ".py",
   "mimetype": "text/x-python",
   "name": "python",
   "nbconvert_exporter": "python",
   "pygments_lexer": "ipython2",
   "version": "2.7.6"
  }
 },
 "nbformat": 4,
 "nbformat_minor": 5
}
