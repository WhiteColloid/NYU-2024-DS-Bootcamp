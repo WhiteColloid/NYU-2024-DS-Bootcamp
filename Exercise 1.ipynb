{
 "cells": [
  {
   "cell_type": "code",
   "execution_count": 28,
   "id": "initial_id",
   "metadata": {
    "collapsed": true,
    "ExecuteTime": {
     "end_time": "2024-02-28T01:33:31.411257300Z",
     "start_time": "2024-02-28T01:33:31.408214600Z"
    }
   },
   "outputs": [],
   "source": [
    "import sys"
   ]
  },
  {
   "cell_type": "code",
   "execution_count": 9,
   "outputs": [],
   "source": [
    "#1. Write a function that counts the number of vowels in the word\n",
    "def count_vowels(word):\n",
    "    w_list = [*word]\n",
    "    i = 0\n",
    "    for w in w_list:\n",
    "        if w in['a','e','u','i','o']:\n",
    "            i += 1\n",
    "    print(i)\n",
    "        "
   ],
   "metadata": {
    "collapsed": false,
    "ExecuteTime": {
     "end_time": "2024-02-28T01:22:32.554379400Z",
     "start_time": "2024-02-28T01:22:32.547451300Z"
    }
   },
   "id": "277b9243a0a6c324"
  },
  {
   "cell_type": "code",
   "execution_count": 10,
   "outputs": [
    {
     "name": "stdout",
     "output_type": "stream",
     "text": [
      "2\n"
     ]
    }
   ],
   "source": [
    "#test for Q1\n",
    "count_vowels('apple')"
   ],
   "metadata": {
    "collapsed": false,
    "ExecuteTime": {
     "end_time": "2024-02-28T01:22:33.517135600Z",
     "start_time": "2024-02-28T01:22:33.506743500Z"
    }
   },
   "id": "a98373391883d146"
  },
  {
   "cell_type": "code",
   "execution_count": null,
   "outputs": [],
   "source": [],
   "metadata": {
    "collapsed": false
   },
   "id": "4840345987cafb2c"
  },
  {
   "cell_type": "code",
   "execution_count": 11,
   "outputs": [],
   "source": [
    "#2. Iterate through this list of animals and print each one in all caps\n",
    "animals = ['tiger', 'elephant', 'monkey', 'zebra', 'panther']"
   ],
   "metadata": {
    "collapsed": false,
    "ExecuteTime": {
     "end_time": "2024-02-28T01:22:51.751146400Z",
     "start_time": "2024-02-28T01:22:51.745105200Z"
    }
   },
   "id": "152c6f12513b07ff"
  },
  {
   "cell_type": "code",
   "execution_count": 13,
   "outputs": [
    {
     "name": "stdout",
     "output_type": "stream",
     "text": [
      "TIGER\n",
      "ELEPHANT\n",
      "MONKEY\n",
      "ZEBRA\n",
      "PANTHER\n"
     ]
    }
   ],
   "source": [
    "for ani in animals:\n",
    "    print(ani.upper())"
   ],
   "metadata": {
    "collapsed": false,
    "ExecuteTime": {
     "end_time": "2024-02-28T01:24:56.705107Z",
     "start_time": "2024-02-28T01:24:56.703568500Z"
    }
   },
   "id": "bdc1256b64337a02"
  },
  {
   "cell_type": "code",
   "execution_count": null,
   "outputs": [],
   "source": [],
   "metadata": {
    "collapsed": false
   },
   "id": "3b2fa45e0c408f68"
  },
  {
   "cell_type": "code",
   "execution_count": null,
   "outputs": [],
   "source": [
    "#3. Write a program that iterates from 1 to 20, printing each number and whether it's odd or even"
   ],
   "metadata": {
    "collapsed": false
   },
   "id": "ef42678b6ea816b2"
  },
  {
   "cell_type": "code",
   "execution_count": 23,
   "outputs": [
    {
     "name": "stdout",
     "output_type": "stream",
     "text": [
      "1 : odd\n",
      "2 : even\n",
      "3 : odd\n",
      "4 : even\n",
      "5 : odd\n",
      "6 : even\n",
      "7 : odd\n",
      "8 : even\n",
      "9 : odd\n",
      "10 : even\n",
      "11 : odd\n",
      "12 : even\n",
      "13 : odd\n",
      "14 : even\n",
      "15 : odd\n",
      "16 : even\n",
      "17 : odd\n",
      "18 : even\n",
      "19 : odd\n",
      "20 : even\n"
     ]
    }
   ],
   "source": [
    "li = range(1,21)\n",
    "for l in li:\n",
    "    if int(l)%2 == 0:\n",
    "        print(l, ': even')\n",
    "    else:\n",
    "        print(l, ': odd')"
   ],
   "metadata": {
    "collapsed": false,
    "ExecuteTime": {
     "end_time": "2024-02-28T01:27:56.590808700Z",
     "start_time": "2024-02-28T01:27:56.583394200Z"
    }
   },
   "id": "11a6f17b0b498015"
  },
  {
   "cell_type": "code",
   "execution_count": null,
   "outputs": [],
   "source": [],
   "metadata": {
    "collapsed": false
   },
   "id": "1e6ebfeb0a3977f2"
  },
  {
   "cell_type": "code",
   "execution_count": null,
   "outputs": [],
   "source": [
    "#4. Write a function sum_of_integers(a, b) that takes two integers as input from the user and returns their sum."
   ],
   "metadata": {
    "collapsed": false
   },
   "id": "a65e26d5a8f4d507"
  },
  {
   "cell_type": "code",
   "execution_count": 29,
   "outputs": [],
   "source": [
    "def sum_of_integers(a, b):\n",
    "    if isinstance(a, int) and isinstance(b, int):\n",
    "        print(a + b)\n",
    "    else:\n",
    "        print('Input can only be integer', file = sys.stderr)"
   ],
   "metadata": {
    "collapsed": false,
    "ExecuteTime": {
     "end_time": "2024-02-28T01:33:37.379540100Z",
     "start_time": "2024-02-28T01:33:37.372168700Z"
    }
   },
   "id": "d099745b2fb2937f"
  },
  {
   "cell_type": "code",
   "execution_count": 33,
   "outputs": [
    {
     "name": "stdout",
     "output_type": "stream",
     "text": [
      "8\n"
     ]
    },
    {
     "name": "stderr",
     "output_type": "stream",
     "text": [
      "Input can only be integer\n"
     ]
    }
   ],
   "source": [
    "# Test\n",
    "sum_of_integers(3, 5)\n",
    "sum_of_integers(2.4, 5)"
   ],
   "metadata": {
    "collapsed": false,
    "ExecuteTime": {
     "end_time": "2024-02-28T01:33:57.306342900Z",
     "start_time": "2024-02-28T01:33:57.286339300Z"
    }
   },
   "id": "de5b29011dbe391e"
  },
  {
   "cell_type": "code",
   "execution_count": null,
   "outputs": [],
   "source": [],
   "metadata": {
    "collapsed": false
   },
   "id": "f5572eeaf7182f24"
  },
  {
   "cell_type": "code",
   "execution_count": null,
   "outputs": [],
   "source": [],
   "metadata": {
    "collapsed": false
   },
   "id": "b752def726c58f92"
  },
  {
   "cell_type": "code",
   "execution_count": null,
   "outputs": [],
   "source": [],
   "metadata": {
    "collapsed": false
   },
   "id": "2486fe7cf4d6863d"
  },
  {
   "cell_type": "code",
   "execution_count": null,
   "outputs": [],
   "source": [],
   "metadata": {
    "collapsed": false
   },
   "id": "61200ae1a8b05ca6"
  }
 ],
 "metadata": {
  "kernelspec": {
   "display_name": "Python 3",
   "language": "python",
   "name": "python3"
  },
  "language_info": {
   "codemirror_mode": {
    "name": "ipython",
    "version": 2
   },
   "file_extension": ".py",
   "mimetype": "text/x-python",
   "name": "python",
   "nbconvert_exporter": "python",
   "pygments_lexer": "ipython2",
   "version": "2.7.6"
  }
 },
 "nbformat": 4,
 "nbformat_minor": 5
}
